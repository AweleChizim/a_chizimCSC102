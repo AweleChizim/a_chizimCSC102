{
 "cells": [
  {
   "cell_type": "code",
   "execution_count": 2,
   "id": "45950628",
   "metadata": {},
   "outputs": [
    {
     "name": "stdout",
     "output_type": "stream",
     "text": [
      "Input Principal:500\n",
      "Input Rate (in percentage):50\n",
      "Input No of Years:2\n",
      "Simple Interest =  1000.0\n"
     ]
    }
   ],
   "source": [
    "#Simple Interest\n",
    "p = int(input(\"Input Principal:\"))\n",
    "r = int(input(\"Input Rate (in percentage):\"))\n",
    "t = int(input(\"Input No of Years:\"))\n",
    "\n",
    "a = p * (1 + ((r / 100) * t))\n",
    "print(\"Simple Interest = \", a)"
   ]
  },
  {
   "cell_type": "code",
   "execution_count": 3,
   "id": "e804ba4f",
   "metadata": {},
   "outputs": [
    {
     "name": "stdout",
     "output_type": "stream",
     "text": [
      "Input Principal:500\n",
      "Input the No of Times It Compounds Per Year:2\n",
      "Input Rate (in decimal [i.e 50% = 0.5]:0.5\n",
      "Input No of Years:2\n",
      "Compound Interest =  1220.703125\n"
     ]
    }
   ],
   "source": [
    "#Compound Interest\n",
    "p = int(input(\"Input Principal:\"))\n",
    "n = int(input(\"Input the No of Times It Compounds Per Year:\"))\n",
    "r = float(input(\"Input Rate (in decimal [i.e., 50% = 0.5]):\"))\n",
    "t = int(input(\"Input No of Years:\"))\n",
    "\n",
    "a = p * ((1 + (r / n)) ** (n * t))\n",
    "print(\"Compound Interest = \", a)"
   ]
  },
  {
   "cell_type": "code",
   "execution_count": 6,
   "id": "207c78b5",
   "metadata": {},
   "outputs": [
    {
     "name": "stdout",
     "output_type": "stream",
     "text": [
      "Input Payment at Regular Intervals:1540\n",
      "Input the No of Times Payment is made Per Year:2\n",
      "Input Rate (in decimal [i.e 50% = 0.5]:0.5\n",
      "Input No of Years:5\n",
      "Annuity Plan =  51209.47059631348\n"
     ]
    }
   ],
   "source": [
    "#Annuity Plan\n",
    "pmt = int(input(\"Input Payment at Regular Intervals:\"))\n",
    "n = int(input(\"Input the No of Times Payment is made Per Year:\"))\n",
    "r = float(input(\"Input Rate (in decimal [i.e., 50% = 0.5]:\"))\n",
    "t = int(input(\"Input No of Years:\"))\n",
    "\n",
    "y = r / n\n",
    "a = pmt * ((((1 + y) ** (n * t)) - 1) / y)\n",
    "print(\"Annuity Plan = \", a)"
   ]
  }
 ],
 "metadata": {
  "kernelspec": {
   "display_name": "Python 3 (ipykernel)",
   "language": "python",
   "name": "python3"
  },
  "language_info": {
   "codemirror_mode": {
    "name": "ipython",
    "version": 3
   },
   "file_extension": ".py",
   "mimetype": "text/x-python",
   "name": "python",
   "nbconvert_exporter": "python",
   "pygments_lexer": "ipython3",
   "version": "3.10.9"
  }
 },
 "nbformat": 4,
 "nbformat_minor": 5
}
