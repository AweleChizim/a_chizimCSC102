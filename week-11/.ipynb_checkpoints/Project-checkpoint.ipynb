{
 "cells": [
  {
   "cell_type": "code",
   "execution_count": 34,
   "id": "349528b0",
   "metadata": {},
   "outputs": [
    {
     "name": "stdout",
     "output_type": "stream",
     "text": [
      "Welcome to AweleBiz! \n",
      "Please enter how many oranges you would like to order: 24\n",
      "Amount of oranges unavailable! Please enter a lower order: 3\n",
      "Total price: 600\n",
      "Thanks for shopping at AweleBiz!\n"
     ]
    }
   ],
   "source": [
    "#project 1\n",
    "class AweleBiz():\n",
    "    def thankyou(self):\n",
    "        print('Thanks for shopping at AweleBiz!')\n",
    "        \n",
    "class Order(AweleBiz):   \n",
    "    def check_order(self, order_qty, stock_qty, price):\n",
    "        self.oqty = order_qty\n",
    "        self.stock_qty = stock_qty\n",
    "        self.pr = price\n",
    "        if  self.oqty < self.stock_qty:\n",
    "            print('Total price:',self.pr * self.oqty)    \n",
    "        if self.oqty > self.stock_qty:\n",
    "            qty = int(input('Amount of oranges unavailable! Please enter a lower order: '))\n",
    "            if qty < self.stock_qty:\n",
    "                print('Total price:',self.pr * qty)\n",
    "            if qty > self.stock_qty:\n",
    "                print('Sorry order quantity unavailable at the moment')\n",
    "                \n",
    "        \n",
    "\n",
    "stock_qty = 20\n",
    "price = 200\n",
    "order_qty = int(input('Welcome to AweleBiz! \\nPlease enter how many oranges you would like to order: '))\n",
    "a = Order()\n",
    "a.check_order(order_qty, stock_qty, price)\n",
    "a.thankyou()"
   ]
  },
  {
   "cell_type": "code",
   "execution_count": 43,
   "id": "9ab4f191",
   "metadata": {},
   "outputs": [
    {
     "name": "stdout",
     "output_type": "stream",
     "text": [
      "Calculator...\n",
      "Enter 1 to calculate Area of Trapezium\n",
      "      2 to calculate Area of Rhombus\n",
      "      3 to calculate Area of Parallelogram\n",
      "      4 to calculate Area of Cube\n",
      "      5 to calculate Volume of Cylinder\n",
      "2\n",
      "Enter the value of diagonal1: 2\n",
      "Enter the value of diagonal2: 2\n",
      "Area of rhombus =2.0m^2\n"
     ]
    }
   ],
   "source": [
    "#project 2\n",
    "\n",
    "class Calculator():\n",
    "    def calc_Trapezium(self):\n",
    "        a = int(input('Enter the value of base1: '))\n",
    "        b = int(input('Enter the value of base2: '))\n",
    "        h = int(input('Enter the value of height: '))\n",
    "        result = (h/2) * (a + b)\n",
    "        print ('Area of trapezium ={}m^2'.format(result))\n",
    "        \n",
    "    def calc_Rhombus(self):\n",
    "        a = int(input('Enter the value of diagonal1: '))\n",
    "        b = int(input('Enter the value of diagonal2: '))\n",
    "        result = a * b * (1/2)\n",
    "        print ('Area of rhombus ={}m^2'.format(result))\n",
    "        \n",
    "    def calc_Parallelogram(self):\n",
    "        a = int(input('Enter the value of base: '))\n",
    "        b = int(input('Enter the value of altitude: '))\n",
    "        result = a * b\n",
    "        print ('Area of parallelogram ={}m^2'.format(result))\n",
    "        \n",
    "    def calc_Cube(self):\n",
    "        a = int(input('Enter the value of length: '))\n",
    "        result = 6 * (a ** 2)\n",
    "        print ('Area of cube ={}m^2'.format(result))\n",
    "        \n",
    "    def calc_Cylinder(self):\n",
    "        a = int(input('Enter the value of radius: '))\n",
    "        b = int(input('Enter the value of height: '))\n",
    "        result = (22/7) * (a ** 2) * b\n",
    "        print ('Volume of cylinder ={}m^3'.format(result))\n",
    "\n",
    "class Intro(Calculator):\n",
    "    def select_formula(self, val):\n",
    "        self.val = val\n",
    "        if self.val == 1:\n",
    "            obj.calc_Trapezium()\n",
    "        if self.val == 2:\n",
    "            obj.calc_Rhombus()\n",
    "        if self.val == 3:\n",
    "            obj.calc_Parallelogram()\n",
    "        if self.val == 4:\n",
    "            obj.calc_Cube()\n",
    "        if self.val == 5:\n",
    "            obj.calc_Cylinder()\n",
    "        if (self.val > 5) or (self.val < 1):\n",
    "            print('Invalid Input')\n",
    "            \n",
    "    \n",
    "\n",
    "val = int(input('Calculator...\\nEnter 1 to calculate Area of Trapezium\\n      2 to calculate Area of Rhombus\\n      3 to calculate Area of Parallelogram\\n      4 to calculate Area of Cube\\n      5 to calculate Volume of Cylinder\\n'))\n",
    "obj = Intro()\n",
    "obj.select_formula(val)"
   ]
  },
  {
   "cell_type": "code",
   "execution_count": 46,
   "id": "3933889b",
   "metadata": {},
   "outputs": [
    {
     "name": "stdout",
     "output_type": "stream",
     "text": [
      "File has been created!\n"
     ]
    }
   ],
   "source": [
    "#project 3\n",
    "import pandas as pd\n",
    "\n",
    "class NBP():\n",
    "    def df(self, drinks):\n",
    "        self.drinks = drinks\n",
    "        ac = pd.DataFrame(self.drinks)\n",
    "        ac.to_csv('nigerian_brewery_ltd.csv')\n",
    "\n",
    "class file(NBP):\n",
    "    def pr(self):\n",
    "        print('File has been created!')\n",
    "        \n",
    "drinks = {'Lager': [\"33 Export\", \"Desperado\", \"Goldberg\", \"Gulder\", \"Heineken\", \"Star\"],\n",
    "            'Stout': [\"Legend\", \"Turbo King\", \"Williams\", \"\", \"\", \"\"],\n",
    "            'Non-Alcoholic': [\"Maltina\", \"Amstel Malta\", \"Malta Gold\", \"Fayrouz\", \"\", \"\"]}\n",
    "a = file()\n",
    "a.df(drinks)\n",
    "a.pr()"
   ]
  }
 ],
 "metadata": {
  "kernelspec": {
   "display_name": "Python 3 (ipykernel)",
   "language": "python",
   "name": "python3"
  },
  "language_info": {
   "codemirror_mode": {
    "name": "ipython",
    "version": 3
   },
   "file_extension": ".py",
   "mimetype": "text/x-python",
   "name": "python",
   "nbconvert_exporter": "python",
   "pygments_lexer": "ipython3",
   "version": "3.10.9"
  }
 },
 "nbformat": 4,
 "nbformat_minor": 5
}
