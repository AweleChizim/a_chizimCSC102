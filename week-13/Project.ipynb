{
 "cells": [
  {
   "cell_type": "code",
   "execution_count": 4,
   "id": "90853800",
   "metadata": {},
   "outputs": [
    {
     "name": "stdout",
     "output_type": "stream",
     "text": [
      "What is the name of the club you support?Liverpool\n",
      "Club not part of Coup_De_Escriva\n"
     ]
    }
   ],
   "source": [
    "from abc import ABC, abstractmethod\n",
    "\n",
    "class Coup_De_Escriva(ABC):\n",
    "    @abstractmethod\n",
    "    def Fan_Page(self):\n",
    "        pass\n",
    "    \n",
    "class FC_Cirok(Coup_De_Escriva):\n",
    "    def Fan_Page(self, clubname):\n",
    "        print (f'Welcome to {clubname}!')\n",
    "\n",
    "class Madiba_FC(Coup_De_Escriva):\n",
    "     def Fan_Page(self, clubname):\n",
    "        print (f'Welcome to {clubname}!')\n",
    "\n",
    "class Blue_Jays_FC(Coup_De_Escriva):\n",
    "     def Fan_Page(self, clubname):\n",
    "        print (f'Welcome to {clubname}!')\n",
    "\n",
    "class TSG_Walker_FC(Coup_De_Escriva):\n",
    "     def Fan_Page(self, clubname):\n",
    "        print (f'Welcome to {clubname}!')\n",
    "        \n",
    "clubname = input('What is the name of the club you support?')\n",
    "if clubname == 'Cirok':\n",
    "    c = FC_Cirok()\n",
    "    c.Fan_Page(clubname)   \n",
    "elif clubname == 'Madiba':\n",
    "    m = Madiba_FC()\n",
    "    m.Fan_Page(clubname)  \n",
    "elif clubname == 'Blue Jays':\n",
    "    b = Blue_Jays_FC()\n",
    "    b.Fan_Page(clubname)    \n",
    "elif clubname == \"TSG Walkers\":\n",
    "    t = TSG_Walker_FC()\n",
    "    t.Fan_Page(clubname)\n",
    "else:\n",
    "    print ('Club not part of Coup_De_Escriva')"
   ]
  },
  {
   "cell_type": "code",
   "execution_count": 42,
   "id": "c9e352ef",
   "metadata": {},
   "outputs": [
    {
     "name": "stdout",
     "output_type": "stream",
     "text": [
      "Welcome to External Food Vendors Menu's!\n",
      "Which menu would you like to see?\n",
      "Enter 1 for Cooperative Cafeteria\n",
      "      2 for Faith Hostel Cafeteria\n",
      "      3 for Student Center Cafeteria\n",
      "4\n",
      "          ERROR!\n",
      "External Food Vendor Not Found\n"
     ]
    }
   ],
   "source": [
    "from abc import ABC, abstractmethod\n",
    "import pandas as pd\n",
    "\n",
    "class External_Vendors(ABC):\n",
    "    @abstractmethod\n",
    "    def menu(self):\n",
    "        pass\n",
    "    \n",
    "class Cooperative_Cafeteria(External_Vendors):\n",
    "    def menu(self):\n",
    "        items = {'MAIN MEAL': ['Jollof Rice and Stew', 'White Rice and Stew', 'Fried Rice', 'Salad', 'Plantain'],\n",
    "                 'PRICE (N)': ['200', '200', '200', '100', '100']}\n",
    "        file = pd.DataFrame(items)\n",
    "        file.to_csv('Cooperative_Cafeteria_Menu.csv')\n",
    "        \n",
    "    def display(self): \n",
    "        print(('Cooperative Cafeteria Menu').upper())\n",
    "        food = pd.read_csv('Cooperative_Cafeteria_Menu.csv')\n",
    "        foodlist = pd.DataFrame(food)\n",
    "        print (foodlist[['MAIN MEAL', 'PRICE (N)']])\n",
    "        \n",
    "class Faith_Hall_Cafeteria(External_Vendors):\n",
    "    def menu(self):\n",
    "        items = {'MAIN MEAL': ['Fried Rice', 'White Rice and Stew', 'Jollof Rice', 'Beans', 'Chicken'],\n",
    "                 'PRICE (N)': ['400', '400', '400', '200', '1000']}\n",
    "        file = pd.DataFrame(items)\n",
    "        file.to_csv('Faith_Hall_Cafeteria_Menu.csv')\n",
    "        \n",
    "    def display(self):\n",
    "        print(('Faith Hall Cafeteria Menu').upper())\n",
    "        food = pd.read_csv('Faith_Hall_Cafeteria_Menu.csv')\n",
    "        foodlist = pd.DataFrame(food)\n",
    "        print (foodlist[['MAIN MEAL', 'PRICE (N)']])\n",
    "        \n",
    "class Student_Center_Cafeteria(External_Vendors):\n",
    "    def menu(self):\n",
    "        items = {'MAIN MEAL': ['Chicken Fried Rice', 'Pomo Sauce', 'Sphagetti Jollof', 'Amala and Ewedu', 'Semo with Eforiro Soup'],\n",
    "                 'PRICE (N)': ['800', '300', '500', '500', '500']}\n",
    "        file = pd.DataFrame(items)\n",
    "        file.to_csv('Student_Center_Cafeteria_Menu.csv')\n",
    "         \n",
    "    def display(self):\n",
    "        print(('Student Center Cafeteria Menu').upper())\n",
    "        food = pd.read_csv(\"Student_Center_Cafeteria_Menu.csv\")\n",
    "        foodlist = pd.DataFrame(food)\n",
    "        print (foodlist[['MAIN MEAL', 'PRICE (N)']])\n",
    "        \n",
    "die_speisekarte = input(\"Welcome to External Food Vendors Menu's!\\nWhich menu would you like to see?\\nEnter 1 for Cooperative Cafeteria\\n      2 for Faith Hostel Cafeteria\\n      3 for Student Center Cafeteria\\n\")\n",
    "if die_speisekarte == \"1\":\n",
    "    a = Cooperative_Cafeteria()\n",
    "    a.menu()\n",
    "    a.display()\n",
    "elif die_speisekarte == \"2\":\n",
    "    b = Faith_Hall_Cafeteria()\n",
    "    b.menu()\n",
    "    b.display()\n",
    "elif die_speisekarte == \"3\":\n",
    "    c = Student_Center_Cafeteria()\n",
    "    c.menu()\n",
    "    c.display()\n",
    "else:\n",
    "    print ('          ERROR!\\nExternal Food Vendor Not Found')"
   ]
  },
  {
   "cell_type": "code",
   "execution_count": null,
   "id": "a9cc252b",
   "metadata": {},
   "outputs": [],
   "source": []
  }
 ],
 "metadata": {
  "kernelspec": {
   "display_name": "Python 3 (ipykernel)",
   "language": "python",
   "name": "python3"
  },
  "language_info": {
   "codemirror_mode": {
    "name": "ipython",
    "version": 3
   },
   "file_extension": ".py",
   "mimetype": "text/x-python",
   "name": "python",
   "nbconvert_exporter": "python",
   "pygments_lexer": "ipython3",
   "version": "3.10.9"
  }
 },
 "nbformat": 4,
 "nbformat_minor": 5
}
