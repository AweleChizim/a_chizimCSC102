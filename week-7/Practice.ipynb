{
 "cells": [
  {
   "cell_type": "code",
   "execution_count": null,
   "id": "47008504",
   "metadata": {},
   "outputs": [],
   "source": [
    "#Practice 1\n",
    "def printme(str):\n",
    "    #This is a print function\n",
    "    print(str)\n",
    "    return;\n",
    "\n",
    "printme(\"I'm the first call to user defined function!\");\n",
    "printme(\"Again second call to the same function\")"
   ]
  },
  {
   "cell_type": "code",
   "execution_count": 5,
   "id": "5a6c4eec",
   "metadata": {},
   "outputs": [
    {
     "name": "stdout",
     "output_type": "stream",
     "text": [
      "Values inside the function:  [10, 20, 30, [1, 2, 3, 4]]\n",
      "Values outside the function:  [10, 20, 30, [1, 2, 3, 4]]\n"
     ]
    }
   ],
   "source": [
    "#Practice 2\n",
    "def changeme(mylist):\n",
    "    #This changes a passed list\n",
    "    mylist.append([1, 2, 3, 4])\n",
    "    print(\"Values inside the function: \", mylist)\n",
    "    \n",
    "mylist = [10, 20, 30]\n",
    "changeme(mylist)\n",
    "print(\"Values outside the function: \", mylist)"
   ]
  },
  {
   "cell_type": "code",
   "execution_count": 3,
   "id": "e23304a8",
   "metadata": {},
   "outputs": [
    {
     "name": "stdout",
     "output_type": "stream",
     "text": [
      "Values inside the function:  [1, 2, 3, 4]\n",
      "Values outside the function:  [10, 20, 30]\n"
     ]
    }
   ],
   "source": [
    "#Practice 3\n",
    "def changeme(mylist):\n",
    "    #This changes a passed list\n",
    "    mylist = ([1, 2, 3, 4])\n",
    "    print(\"Values inside the function: \", mylist)\n",
    "    return\n",
    "mylist= [10, 20, 30]\n",
    "changeme(mylist)\n",
    "print(\"Values outside the function: \", mylist)\n"
   ]
  },
  {
   "cell_type": "code",
   "execution_count": 6,
   "id": "1fdc8484",
   "metadata": {},
   "outputs": [
    {
     "name": "stdout",
     "output_type": "stream",
     "text": [
      "Hello! Nice to meet you\n"
     ]
    }
   ],
   "source": [
    "#practice 4\n",
    "def printme(str):\n",
    "    #This prints a passed string\n",
    "    print(str)\n",
    "    return\n",
    "printme(str = \"Hello! Nice to meet you\")"
   ]
  },
  {
   "cell_type": "code",
   "execution_count": 8,
   "id": "d2835429",
   "metadata": {},
   "outputs": [
    {
     "name": "stdout",
     "output_type": "stream",
     "text": [
      "Name: Willow\n",
      "Age: 25\n"
     ]
    }
   ],
   "source": [
    "#Practice 5\n",
    "def printinfo( name, age):\n",
    "    #Test function\n",
    "    print (\"Name:\", name)\n",
    "    print (\"Age:\", age)\n",
    "    return\n",
    "printinfo(age = 25, name = \"Willow\")"
   ]
  },
  {
   "cell_type": "code",
   "execution_count": 9,
   "id": "f7f3dd20",
   "metadata": {},
   "outputs": [
    {
     "name": "stdout",
     "output_type": "stream",
     "text": [
      "Name: Willow\n",
      "Age: 25\n",
      "Name: Willow\n",
      "Age: 35\n"
     ]
    }
   ],
   "source": [
    "#Practice 6\n",
    "def printinfo( name, age = 35):\n",
    "    #Test function\n",
    "    print (\"Name:\", name)\n",
    "    print (\"Age:\", age)\n",
    "    return\n",
    "printinfo(age = 25, name = \"Willow\")\n",
    "printinfo(name = \"Willow\")"
   ]
  },
  {
   "cell_type": "code",
   "execution_count": 11,
   "id": "efbc3e0b",
   "metadata": {},
   "outputs": [
    {
     "name": "stdout",
     "output_type": "stream",
     "text": [
      "Output is: \n",
      "25\n",
      "Output is: \n",
      "10\n",
      "20\n",
      "40\n",
      "30\n"
     ]
    }
   ],
   "source": [
    "#Practice 7\n",
    "def printinfo( arg1, *vartuple):\n",
    "    #This is a test\n",
    "    print (\"Output is: \")\n",
    "    print (arg1)\n",
    "    for var in vartuple:\n",
    "        print(var)\n",
    "    return\n",
    "printinfo(25)\n",
    "printinfo(10, 20, 40, 30)"
   ]
  },
  {
   "cell_type": "code",
   "execution_count": 14,
   "id": "c832993c",
   "metadata": {},
   "outputs": [
    {
     "name": "stdout",
     "output_type": "stream",
     "text": [
      "Inside the function local total :  30\n",
      "Outside the function global total :  50\n"
     ]
    }
   ],
   "source": [
    "#practice 9\n",
    "total = 50 #This is a global variable\n",
    "def sum(arg1, arg2):\n",
    "    #Add both parameters\n",
    "    total = 0\n",
    "    total = arg1 + arg2\n",
    "    print (\"Inside the function local total : \", total)\n",
    "    return total\n",
    "sum(10, 20)\n",
    "print(\"Outside the function global total : \", total)"
   ]
  },
  {
   "cell_type": "code",
   "execution_count": 15,
   "id": "34a153f2",
   "metadata": {},
   "outputs": [
    {
     "name": "stdout",
     "output_type": "stream",
     "text": [
      "Lawal Edward Tolu Tina\n",
      "Mary\n"
     ]
    }
   ],
   "source": [
    "def swap(x, y):\n",
    "    global a \n",
    "    a = \"Lawal\"\n",
    "    x, y = y, x\n",
    "    b = \"Chris\"\n",
    "    b = \"Edward\"\n",
    "    c = \"Lola\"\n",
    "    print(a, b, x, y)\n",
    "    a = \"Mary\"\n",
    "swap(\"Tina\", \"Tolu\")\n",
    "print(a)"
   ]
  },
  {
   "cell_type": "code",
   "execution_count": null,
   "id": "7043ee9e",
   "metadata": {},
   "outputs": [],
   "source": []
  }
 ],
 "metadata": {
  "kernelspec": {
   "display_name": "Python 3 (ipykernel)",
   "language": "python",
   "name": "python3"
  },
  "language_info": {
   "codemirror_mode": {
    "name": "ipython",
    "version": 3
   },
   "file_extension": ".py",
   "mimetype": "text/x-python",
   "name": "python",
   "nbconvert_exporter": "python",
   "pygments_lexer": "ipython3",
   "version": "3.10.9"
  }
 },
 "nbformat": 4,
 "nbformat_minor": 5
}
