{
 "cells": [
  {
   "cell_type": "code",
   "execution_count": 1,
   "id": "ac385172",
   "metadata": {},
   "outputs": [
    {
     "name": "stdout",
     "output_type": "stream",
     "text": [
      "Enter your state of origin:Delta\n",
      "Your state of origin is:  Delta\n",
      "The first character is:  D\n",
      "The characters starting from 3rd to 5th are:  lta\n",
      "The string starting from the third character is:  lta\n",
      "State of origin two times DeltaDelta\n"
     ]
    }
   ],
   "source": [
    "str = input(\"Enter your state of origin:\")\n",
    "\n",
    "print(\"Your state of origin is: \", str)\n",
    "print(\"The first character is: \", str[0])\n",
    "print(\"The characters starting from 3rd to 5th are: \", str[2:5])\n",
    "print(\"The string starting from the third character is: \", str[2:])\n",
    "print(\"State of origin two times\", str * 2)"
   ]
  },
  {
   "cell_type": "code",
   "execution_count": 2,
   "id": "7c306864",
   "metadata": {},
   "outputs": [
    {
     "name": "stdout",
     "output_type": "stream",
     "text": [
      "Enter mass in kilograms: 2\n",
      "The energy of equivalent to 2.0kg of mass is 1.7975103574736352e+17 joules.\n"
     ]
    }
   ],
   "source": [
    "#input from user\n",
    "m = float(input(\"Enter mass in kilograms: \"))\n",
    "\n",
    "#constant value for the speed of light in m/s\n",
    "c = 299792458\n",
    "\n",
    "#calculating energy using einstein's equation\n",
    "energy = m * c ** 2\n",
    "\n",
    "#displaying the result\n",
    "print(f\"The energy of equivalent to {m}kg of mass is {energy} joules.\")"
   ]
  },
  {
   "cell_type": "code",
   "execution_count": null,
   "id": "7478f08f",
   "metadata": {},
   "outputs": [],
   "source": [
    "list = [ 'Anaconda', 786, 2.23, 'Jupyter', 70.2 ]\n",
    "shortlist = [321, 'Python']\n",
    "\n",
    "print(list)            #prints complete list\n",
    "print(list[0])         #prints first element of the list\n",
    "print(list[1:3])       #prints elements starting from the 2nd till the 3rd\n",
    "print(list[2:])        #prints elements starting from the third\n",
    "print(shortlist * 2)   ''' Prints list 2 times '''\n",
    "print(list + shortlist)''' Prints concatenated lists '''\n"
   ]
  },
  {
   "cell_type": "code",
   "execution_count": null,
   "id": "cebe78e6",
   "metadata": {},
   "outputs": [],
   "source": [
    "tuple = (\"Ekiti\", 750, 'Oshogbo', 250, 'Akure', 500)\n",
    "s_tuple = (\"Abeokuta\", 300, \"Oshogbo\")\n",
    "\n",
    "#prints complete tuple\n",
    "print(tuple)\n",
    "\n",
    "#prints last element of the tuple\n",
    "print(tuple[-1])\n",
    "\n",
    "#print elements 2 - 3 of the tuple\n",
    "print(tuple[2:4])\n",
    "\n",
    "#print elements 3 to the end\n",
    "print(tuple[3:])\n",
    "\n",
    "print(s_tuple * 3)\n",
    "\n",
    "#prints concatenated tuples\n",
    "print(tuple + s_tuple)"
   ]
  },
  {
   "cell_type": "code",
   "execution_count": null,
   "id": "5170b4f4",
   "metadata": {},
   "outputs": [],
   "source": [
    "#return false as game_1 is not equal to game_2\n",
    "game_1 = 2\n",
    "game_2 = 4\n",
    "print(bool(game_1 == game_2))\n",
    "#OR\n",
    "print(game_1 == game_2)\n",
    "\n",
    "#return false as val is none\n",
    "val is None\n",
    "print(bool(val))\n",
    "\n",
    "#return false as num is an empty sequence\n",
    "num = ()\n",
    "print(bool(num))\n",
    "\n",
    "#return true as age is a boolean\n",
    "age = True\n",
    "print(bool(age))"
   ]
  },
  {
   "cell_type": "code",
   "execution_count": null,
   "id": "161bba23",
   "metadata": {},
   "outputs": [],
   "source": [
    "# Convert to int\n",
    "\n",
    "grade = int(70)   #grade will be 70\n",
    "gpa = int(4.9)    #gpa will be 4.9\n",
    "cgpa = int(\"4\")   #cgpa will be 4\n",
    "\n",
    "print(f\"Grade = {grade}\")\n",
    "print(f\"GPA = {gpa}\")\n",
    "print(f\"CGPA = {cgpa}\")\n"
   ]
  },
  {
   "cell_type": "code",
   "execution_count": null,
   "id": "19e33322",
   "metadata": {},
   "outputs": [],
   "source": [
    "# Convert to float\n",
    "\n",
    "grade = float(70)   \n",
    "gpa = float(4.9)    \n",
    "cgpa = float(\"4\")   \n",
    "\n",
    "print(f\"Grade = {grade}\")\n",
    "print(f\"GPA = {gpa}\")\n",
    "print(f\"CGPA = {cgpa}\")\n"
   ]
  }
 ],
 "metadata": {
  "kernelspec": {
   "display_name": "Python 3 (ipykernel)",
   "language": "python",
   "name": "python3"
  },
  "language_info": {
   "codemirror_mode": {
    "name": "ipython",
    "version": 3
   },
   "file_extension": ".py",
   "mimetype": "text/x-python",
   "name": "python",
   "nbconvert_exporter": "python",
   "pygments_lexer": "ipython3",
   "version": "3.10.9"
  }
 },
 "nbformat": 4,
 "nbformat_minor": 5
}
