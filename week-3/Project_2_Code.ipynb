{
 "cells": [
  {
   "cell_type": "code",
   "execution_count": 2,
   "id": "4a4ffa3b",
   "metadata": {},
   "outputs": [
    {
     "name": "stdout",
     "output_type": "stream",
     "text": [
      "Input the coefficient of x^3:9\n",
      "Input the coefficient of x^2:7\n",
      "Input the coefficient of x:5\n",
      "Input the constant:4\n"
     ]
    }
   ],
   "source": [
    "#Roots of a Cubic Equation\n",
    "\n",
    "a = int(input(\"Input the coefficient of x^3:\"))\n",
    "b = int(input(\"Input the coefficient of x^2:\"))\n",
    "c = int(input(\"Input the coefficient of x:\"))\n",
    "d = int(input(\"Input the constant:\"))\n",
    "\n",
    "\n",
    "q = ((((2 * (b ** 3)) - (9 * a * b * c) + (27 * d * (a ** 2))) ** 2) - (4 * (((b ** 2) - (3 * a * c)) ** 3))) ** (1 / 2)\n",
    "r = (0.5 * (q + (2 * (b ** 3)) - (9 * a * b * c) + (27 * d * (a ** 2)))) ** (1 / 3)\n",
    "s = ((b ** 2) - (3 * a * c))\n",
    "y = complex(1, (3 ** (1 / 2)))\n",
    "z = complex(1, -(3 ** (1 / 2)))\n",
    "\n",
    "if s == 0 and not q == 0:\n",
    "    x1 = -(b / (3 * a)) - (r / (3 * a)) - (s / (3 * a * r))\n",
    "    x2 = -(b / (3 * a)) + ((r * y) / (6 * a)) + ((s * z) / (6 * a * r))\n",
    "    x3 = -(b / (3 * a)) + ((r * z) / (6 * a)) + ((s * y) / (6 * a * r))\n",
    "    print(f\"x1 = {x1}, x2 = {x2}, x3 = {x3}\")\n",
    "elif s == 0 and q == 0:\n",
    "    x1 = x2 = x3 = -(b / (3 * a))\n",
    "    print(f\"x1 = {x1}, x2 = {x2}, x3 = {x3}\")\n",
    "elif q == 0 and not s == 0:\n",
    "    x1 = x2 = ((b * c) - (9 * a * d)) / (2 * ((3 * a *c) - (b ** 2)))\n",
    "    x3 = ((9 * (a ** 2) * d) - (4 * a * b * c) + (b ** 3)) / (a * ((3 * a * c) - (b ** 2)))\n",
    "    print(f\"x1 = {x1}, x2 = {x2}, x3 = {x3}\")"
   ]
  },
  {
   "cell_type": "code",
   "execution_count": null,
   "id": "11247951",
   "metadata": {},
   "outputs": [],
   "source": [
    "a = int(input(\"Input the coefficient of x^2:\"))\n",
    "b = int(input(\"Input the coefficient of x:\"))\n",
    "c = int(input(\"Input the constant:\"))\n",
    "\n",
    "z = (b ** 2) - (4 * a * c)\n",
    "y = z ** (1/2)\n",
    "\n",
    "x1 = (-b + y) / (2 * a)\n",
    "x2 = (-b - y) / (2 * a)\n",
    "print(f\"The roots of the equation are x1 = {x1} and x2 = {x2}\")"
   ]
  },
  {
   "cell_type": "code",
   "execution_count": null,
   "id": "2aff3d42",
   "metadata": {},
   "outputs": [],
   "source": []
  }
 ],
 "metadata": {
  "kernelspec": {
   "display_name": "Python 3 (ipykernel)",
   "language": "python",
   "name": "python3"
  },
  "language_info": {
   "codemirror_mode": {
    "name": "ipython",
    "version": 3
   },
   "file_extension": ".py",
   "mimetype": "text/x-python",
   "name": "python",
   "nbconvert_exporter": "python",
   "pygments_lexer": "ipython3",
   "version": "3.10.9"
  }
 },
 "nbformat": 4,
 "nbformat_minor": 5
}
