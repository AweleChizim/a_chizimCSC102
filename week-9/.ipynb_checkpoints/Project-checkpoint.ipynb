{
 "cells": [
  {
   "cell_type": "code",
   "execution_count": 8,
   "id": "64caf0f1",
   "metadata": {},
   "outputs": [
    {
     "name": "stdout",
     "output_type": "stream",
     "text": [
      "Dear Employee...\n",
      "Welcome to Zenith Bank!\n",
      "Name:Agatha\n",
      "Please Select Your Division\n",
      "Enter 1 for Retail Banking\n",
      "      2 for Global Banking\n",
      "      3 for Commercial Banking\n",
      "2\n",
      "Services unique to this division:\n",
      "Multi-currency management services and products\n",
      "Foreign currency accounts\n",
      "Foreign currency credit cards\n",
      "Transborder advisory services\n",
      "Liquidity management\n",
      "\n",
      "Mutual services in this division:\n",
      "None\n"
     ]
    }
   ],
   "source": [
    "#Project\n",
    "class Zenith():  \n",
    "    def unique_services(self):\n",
    "        print('Services unique to this division:\\nRetirement and education accounts\\nLoans and mortgages\\nChecking and savings\\nAdvisory services\\nMulti-currency management services and products\\nForeign currency accounts\\nForeign currency credit cards\\nTransborder advisory services\\nLiquidity management')\n",
    "    \n",
    "    def mutual_services(self):\n",
    "        print('\\nMutual services in this division:\\nInsurance\\nLines of credit\\nInvestment management and accounts')\n",
    "\n",
    "class Retail_Banking(Zenith):\n",
    "    def unique_services(self):\n",
    "        print('Services unique to this division:\\nRetirement and education accounts\\nLoans and mortgages\\nChecking and savings')\n",
    "    \n",
    "class Global_Banking(Zenith):\n",
    "    def unique_services(self):\n",
    "        print('Services unique to this division:\\nMulti-currency management services and products\\nForeign currency accounts\\nForeign currency credit cards\\nTransborder advisory services\\nLiquidity management')\n",
    "    \n",
    "    def mutual_services(self):\n",
    "        print('\\nMutual services in this division:\\nNone')\n",
    "\n",
    "class Commercial_Banking(Zenith):\n",
    "    def unique_services(self):\n",
    "        print('Services unique to this division:\\nAdvisory services')\n",
    "    \n",
    "name = input('Dear Employee...\\nWelcome to Zenith Bank!\\nName:')\n",
    "div = int(input('Please Select Your Division\\nEnter 1 for Retail Banking\\n      2 for Global Banking\\n      3 for Commercial Banking\\n'))\n",
    "\n",
    "obj_z = Zenith()\n",
    "obj_rb = Retail_Banking()\n",
    "obj_gb = Global_Banking()\n",
    "obj_cb = Commercial_Banking()\n",
    "\n",
    "if div == 1:\n",
    "    obj_rb.unique_services()\n",
    "    obj_rb.mutual_services()\n",
    "elif div == 2:\n",
    "    obj_gb.unique_services()\n",
    "    obj_gb.mutual_services()\n",
    "elif div == 3:\n",
    "    obj_cb.unique_services()\n",
    "    obj_cb.mutual_services()\n",
    "else:\n",
    "    print('Division Not Found!')"
   ]
  }
 ],
 "metadata": {
  "kernelspec": {
   "display_name": "Python 3 (ipykernel)",
   "language": "python",
   "name": "python3"
  },
  "language_info": {
   "codemirror_mode": {
    "name": "ipython",
    "version": 3
   },
   "file_extension": ".py",
   "mimetype": "text/x-python",
   "name": "python",
   "nbconvert_exporter": "python",
   "pygments_lexer": "ipython3",
   "version": "3.10.9"
  }
 },
 "nbformat": 4,
 "nbformat_minor": 5
}
