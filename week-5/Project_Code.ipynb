{
 "cells": [
  {
   "cell_type": "code",
   "execution_count": 11,
   "id": "09939f17",
   "metadata": {},
   "outputs": [
    {
     "name": "stdout",
     "output_type": "stream",
     "text": [
      "NAME      |AGE|HEIGHT|SCORE|\n",
      "____________________________\n",
      "Samantha  | 17| 5.5  | 80\n",
      "Jada      | 16| 6.0  | 85  \n",
      "Jane      | 17| 5.4  | 70\n",
      "Claire    | 18| 5.9  | 60\n",
      "Elizabeth | 16| 5.6  | 76  \n",
      "Mary      | 18| 5.5  | 66\n",
      "Susan     | 17| 6.1  | 87\n",
      "Waje      | 20| 6.0  | 95  \n",
      "Taibat    | 19| 5.7  | 50\n",
      "Lilian    | 17| 5.5  | 49\n",
      "Charles   | 19| 5.7  | 74  \n",
      "Jude      | 16| 5.9  | 87\n",
      "James     | 18| 5.8  | 75\n",
      "Kelvin    | 17| 6.1  | 68  \n",
      "Biodun    | 20| 5.9  | 66\n",
      "Wale      | 19| 5.5  | 78\n",
      "Kunle     | 16| 6.1  | 87  \n",
      "Matthew   | 18| 5.4  | 98\n",
      "Tom       | 17| 5.8  | 54\n",
      "Kayode    | 19| 5.7  | 60  \n"
     ]
    }
   ],
   "source": [
    "#Project 1\n",
    "\n",
    "#Writing Student's Data\n",
    "student_data = {'Samantha  ': ['17', '5.5  ', '80'], 'Jada      ': ['16', '6.0  ', '85  '], 'Jane      ': ['17', '5.4  ', '70'], \n",
    "                'Claire    ': ['18', '5.9  ', '60'], 'Elizabeth ': ['16', '5.6  ', '76  '], 'Mary      ': ['18', '5.5  ', '66'], \n",
    "                'Susan     ': ['17', '6.1  ', '87'], 'Waje      ': ['20', '6.0  ', '95  '], 'Taibat    ': ['19', '5.7  ', '50'], \n",
    "                'Lilian    ': ['17', '5.5  ', '49'], 'Charles   ': ['19', '5.7  ', '74  '], 'Jude      ': ['16', '5.9  ', '87'], \n",
    "                'James     ': ['18', '5.8  ', '75'], 'Kelvin    ': ['17', '6.1  ', '68  '], 'Biodun    ': ['20', '5.9  ', '66'], \n",
    "                'Wale      ': ['19', '5.5  ', '78'], 'Kunle     ': ['16', '6.1  ', '87  '], 'Matthew   ': ['18', '5.4  ', '98'], \n",
    "                'Tom       ': ['17', '5.8  ', '54'], 'Kayode    ': ['19', '5.7  ', '60  ']}\n",
    "\n",
    "#Printing Student's Data\n",
    "print(\"NAME      |AGE|HEIGHT|SCORE|\")\n",
    "print(\"____________________________\")\n",
    "for data in student_data:\n",
    "    print(f\"{data}| {student_data[data][0]}| {student_data[data][1]}| {student_data[data][2]}\")"
   ]
  },
  {
   "cell_type": "code",
   "execution_count": 2,
   "id": "7662179d",
   "metadata": {},
   "outputs": [
    {
     "name": "stdout",
     "output_type": "stream",
     "text": [
      "Welcome to AGC.FinTech! \n",
      "Full Name (First name then last name):aze\n",
      "Age:50\n",
      "Year of Experience:32\n",
      "aze, your annual tax revenue = N4480000.\n"
     ]
    }
   ],
   "source": [
    "#Project 2\n",
    "\n",
    "\n",
    "name = input('Welcome to AGC.FinTech! \\nFull Name (First name then last name):')\n",
    "age = int(input('Age:'))\n",
    "y_o_e = int(input('Year of Experience:')) #y_o_e represents years of experience\n",
    "\n",
    "if (y_o_e > 25) and (age >= 55):\n",
    "    art = 5600000\n",
    "    print(f\"{name}, your annual tax revenue = N{art}.\")\n",
    "elif (y_o_e > 20) and (age >= 45):\n",
    "    art = 4480000\n",
    "    print(f\"{name}, your annual tax revenue = N{art}.\")\n",
    "elif (y_o_e > 10) and (age >= 35):\n",
    "    art = 1500000\n",
    "    print(f\"{name}, your annual tax revenue = N{art}.\")\n",
    "else:\n",
    "    art = 550000\n",
    "    print(f\"{name}, your annual tax revenue = N{art}.\")\n",
    "    \n"
   ]
  },
  {
   "cell_type": "code",
   "execution_count": null,
   "id": "cd9bd22d",
   "metadata": {},
   "outputs": [],
   "source": []
  }
 ],
 "metadata": {
  "kernelspec": {
   "display_name": "Python 3 (ipykernel)",
   "language": "python",
   "name": "python3"
  },
  "language_info": {
   "codemirror_mode": {
    "name": "ipython",
    "version": 3
   },
   "file_extension": ".py",
   "mimetype": "text/x-python",
   "name": "python",
   "nbconvert_exporter": "python",
   "pygments_lexer": "ipython3",
   "version": "3.10.9"
  }
 },
 "nbformat": 4,
 "nbformat_minor": 5
}
